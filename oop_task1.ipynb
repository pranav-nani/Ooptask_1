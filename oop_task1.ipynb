{
  "nbformat": 4,
  "nbformat_minor": 0,
  "metadata": {
    "colab": {
      "name": "oop_task1.ipynb",
      "provenance": []
    },
    "kernelspec": {
      "name": "python3",
      "display_name": "Python 3"
    },
    "language_info": {
      "name": "python"
    }
  },
  "cells": [
    {
      "cell_type": "code",
      "metadata": {
        "colab": {
          "base_uri": "https://localhost:8080/"
        },
        "id": "eOzn8icQ8OyW",
        "outputId": "c7109322-0d76-4b49-d1db-3f577bc9d7c5"
      },
      "source": [
        "#Question_1\n",
        "def is_leap(year):\n",
        "    leap = False\n",
        "    \n",
        "    if year%4==0:\n",
        "        if year%100==0:\n",
        "            if year%400==0:\n",
        "                leap=True\n",
        "            else:\n",
        "                leap=False\n",
        "        else:\n",
        "             leap=True\n",
        "    else:\n",
        "        leap=False\n",
        "\n",
        "    return leap\n",
        "\n",
        "\n",
        "\n",
        "year = int(input(\"enter the year :\"))\n",
        "print(\"if the given year is leap year the output will be true if not the output will be false\")\n",
        "print(is_leap(year))"
      ],
      "execution_count": 6,
      "outputs": [
        {
          "output_type": "stream",
          "name": "stdout",
          "text": [
            "enter the year :2020\n",
            "if the given year is leap year the output will be true if not the output will be false\n",
            "True\n"
          ]
        }
      ]
    },
    {
      "cell_type": "code",
      "metadata": {
        "colab": {
          "base_uri": "https://localhost:8080/"
        },
        "id": "Tf_1Soq09jV_",
        "outputId": "26892371-39c9-4dcd-9903-61bb077e0688"
      },
      "source": [
        "#Question_2\n",
        "value=int(input(\"enter a number :\"))\n",
        "if((value%2==0)&(2<value<5)):\n",
        "  print(\"not wierd\")\n",
        "if(value%2!=0):\n",
        "  print(\"weird\")\n",
        "if((value%2==0)&(6<value<20)):\n",
        "  print(\"weird\")\n",
        "if((value%2==0)&(value>20)):\n",
        "  print(\"not weird\")"
      ],
      "execution_count": 9,
      "outputs": [
        {
          "output_type": "stream",
          "name": "stdout",
          "text": [
            "enter a number :21\n",
            "weird\n"
          ]
        }
      ]
    },
    {
      "cell_type": "code",
      "metadata": {
        "colab": {
          "base_uri": "https://localhost:8080/"
        },
        "id": "bcyQn5BOFmzY",
        "outputId": "74180f30-5336-491c-82b4-4ebd8c55e211"
      },
      "source": [
        "#Question_3\n",
        "def fashionably_late(Arrivals, person):\n",
        "\n",
        "    person_index=Arrivals.index(person)\n",
        "    final_index_of_list= (len(Arrivals)-1)\n",
        "    if (final_index_of_list%2==0):\n",
        "      if(person_index>=(final_index_of_list/2) and person_index != final_index_of_list):\n",
        "        print(\"The person is fashionably late.\")\n",
        "      else:\n",
        "        print(\"The person is not fashionably late.\")\n",
        "\n",
        "    elif final_index_of_list%2>0:\n",
        "      if (person_index>=((final_index_of_list//2)+1) and (person_index != final_index_of_list)):\n",
        "        print(\"The person is fashionably late.\")\n",
        "      else:\n",
        "        print(\"The person is not fashionably late.\")\n",
        "\n",
        "Arrivals = ['Hardik','Rahul','Virat','Rishabh','Mani','Rohit','Rahane']\n",
        "fashionably_late(Arrivals, 'Rishabh')"
      ],
      "execution_count": 13,
      "outputs": [
        {
          "output_type": "stream",
          "name": "stdout",
          "text": [
            "The person is fashionably late.\n"
          ]
        }
      ]
    },
    {
      "cell_type": "code",
      "metadata": {
        "colab": {
          "base_uri": "https://localhost:8080/"
        },
        "id": "ac9rmynNFm2a",
        "outputId": "524442d5-57b8-4bed-c1d9-e78a779014f6"
      },
      "source": [
        "#Question_4\n",
        "def word_check(title_list, keyword):\n",
        "    keyword = keyword.lower().strip('.,')       \n",
        "\n",
        "    result_list = []\n",
        "    # i is index of the doc_list\n",
        "    for i, title in enumerate(title_list):\n",
        "        # make lowercase and remove punctuation, then split into words\n",
        "        words = title.lower().strip('.,').split()\n",
        "\n",
        "        if keyword in words:\n",
        "            result_list.append((i, title))\n",
        "\n",
        "    return result_list\n",
        "\n",
        "if __name__ == \"__main__\":\n",
        "    doc_list = ['The Learn Python Challenge Rohit','They bought a car','bangalore']\n",
        "    print(doc_list)\n",
        "    print(\"Enter the word that to be found.\")\n",
        "    w = str(input())\n",
        "\n",
        "    print(word_check(doc_list, w))"
      ],
      "execution_count": 16,
      "outputs": [
        {
          "output_type": "stream",
          "name": "stdout",
          "text": [
            "['The Learn Python Challenge Rohit', 'They bought a car', 'bangalore']\n",
            "Enter the word that to be found.\n",
            "car\n",
            "[(1, 'They bought a car')]\n"
          ]
        }
      ]
    },
    {
      "cell_type": "code",
      "metadata": {
        "colab": {
          "base_uri": "https://localhost:8080/"
        },
        "id": "p9lBWl0WFm48",
        "outputId": "848422c0-81e9-434d-f829-ccc23a64835f"
      },
      "source": [
        "#Question_5\n",
        "def Gross_Pay(BP):\n",
        "  DA = (40/100)*BP\n",
        "  HRA = (20/100)*BP\n",
        "  GP = BP + DA + HRA\n",
        "  print(\"The gross pay of the employee is \",GP)\n",
        "\n",
        "Basic_pay= int(input())\n",
        "Gross_Pay(Basic_pay)"
      ],
      "execution_count": 15,
      "outputs": [
        {
          "output_type": "stream",
          "name": "stdout",
          "text": [
            "50\n",
            "The gross pay of the employee is  80.0\n"
          ]
        }
      ]
    }
  ]
}